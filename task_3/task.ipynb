{
 "cells": [
  {
   "cell_type": "code",
   "execution_count": 68,
   "metadata": {},
   "outputs": [
    {
     "data": {
      "text/plain": [
       "'1,2\\n1,3\\n3,4\\n3,5\\n'"
      ]
     },
     "execution_count": 68,
     "metadata": {},
     "output_type": "execute_result"
    }
   ],
   "source": [
    "with open('data.csv', 'r') as f:\n",
    "    file_content = f.read()\n",
    "\n",
    "file_content"
   ]
  },
  {
   "cell_type": "markdown",
   "metadata": {},
   "source": [
    "Инициализируем граф"
   ]
  },
  {
   "cell_type": "code",
   "execution_count": 69,
   "metadata": {},
   "outputs": [
    {
     "name": "stdout",
     "output_type": "stream",
     "text": [
      "[1, 2, 1, 3, 3, 4, 3, 5]\n"
     ]
    },
    {
     "data": {
      "text/plain": [
       "{1: [], 2: [], 3: [], 4: [], 5: []}"
      ]
     },
     "execution_count": 69,
     "metadata": {},
     "output_type": "execute_result"
    }
   ],
   "source": [
    "import re\n",
    "\n",
    "\n",
    "nodes = re.findall(r'\\d', file_content)\n",
    "\n",
    "nodes = [int(item) for item in nodes]\n",
    "print(nodes)\n",
    "\n",
    "graph = {i: [] for i in range(1, max(nodes) + 1)}\n",
    "\n",
    "graph"
   ]
  },
  {
   "cell_type": "markdown",
   "metadata": {},
   "source": [
    "Строим граф"
   ]
  },
  {
   "cell_type": "code",
   "execution_count": 70,
   "metadata": {},
   "outputs": [
    {
     "data": {
      "text/plain": [
       "{1: ['2', '3'], 2: [], 3: ['4', '5'], 4: [], 5: []}"
      ]
     },
     "execution_count": 70,
     "metadata": {},
     "output_type": "execute_result"
    }
   ],
   "source": [
    "string = file_content.split('\\n')\n",
    "\n",
    "if string[-1] == '':\n",
    "    del string[-1]\n",
    "\n",
    "for i in string:\n",
    "    nodes = i.split(',')\n",
    "    graph[int(nodes[0])].append(nodes[1])\n",
    "\n",
    "graph"
   ]
  },
  {
   "cell_type": "code",
   "execution_count": 71,
   "metadata": {},
   "outputs": [
    {
     "name": "stdout",
     "output_type": "stream",
     "text": [
      "[1, 3]\n",
      "[2, 3, 4, 5]\n",
      "[1]\n",
      "[4, 5]\n",
      "[2, 3, 4, 5]\n"
     ]
    }
   ],
   "source": [
    "r1, r2, r3, r4, r5 = [], [], [], [], []\n",
    "\n",
    "\n",
    "for key in graph:\n",
    "    if len(graph[key]) > 0:\n",
    "        r1.append(key)\n",
    "    for exit_node in graph[key]:\n",
    "        if int(exit_node) not in r2:\n",
    "            r2.append(int(exit_node))\n",
    "\n",
    "for i in r1:\n",
    "    if len(graph[i]) > 1:\n",
    "        for exit_node in graph[i]:\n",
    "            if int(exit_node) not in r5:\n",
    "                r5.append(int(exit_node))\n",
    "    for exit_node_1 in graph[i]:\n",
    "        for exit_node_2 in graph[int(exit_node_1)]:\n",
    "            if i not in r3:\n",
    "                r3.append(i)\n",
    "            if int(exit_node_2) not in r4:\n",
    "                r4.append(int(exit_node_2))\n",
    "\n",
    "print(r1, r2, r3, r4, r5, sep='\\n')\n"
   ]
  }
 ],
 "metadata": {
  "kernelspec": {
   "display_name": "Python 3.10.5 64-bit",
   "language": "python",
   "name": "python3"
  },
  "language_info": {
   "codemirror_mode": {
    "name": "ipython",
    "version": 3
   },
   "file_extension": ".py",
   "mimetype": "text/x-python",
   "name": "python",
   "nbconvert_exporter": "python",
   "pygments_lexer": "ipython3",
   "version": "3.10.5"
  },
  "orig_nbformat": 4,
  "vscode": {
   "interpreter": {
    "hash": "ccfea65839ea7b4cb7611917847ae955f8a5d3f7496a05c88f3bf628abe673bf"
   }
  }
 },
 "nbformat": 4,
 "nbformat_minor": 2
}
